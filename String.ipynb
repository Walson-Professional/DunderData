{
 "cells": [
  {
   "cell_type": "markdown",
   "id": "048b5eea",
   "metadata": {},
   "source": [
    "## Exercises for Module 4 - Strings\n",
    "\n",
    "Place your solutions to the exercises in the empty code cell directly below the exercise.\n",
    "\n",
    "### Solutions\n",
    "\n",
    "All the solutions to the exercises may be found in the **Solutions** notebook. Make sure to attempt the exercises before looking at the solutions. Even if you have solved the exercise correctly, it can be helpful to see the provided solution. There are often multiple ways of arriving at the same answer and there might be a more direct or effective way."
   ]
  },
  {
   "cell_type": "markdown",
   "id": "e0c0fd4a",
   "metadata": {},
   "source": [
    "\n",
    "### Exercise 1\n",
    "<span style=\"color:green\">Create a string using single quote marks and assign it to variable `a`.</span>"
   ]
  },
  {
   "cell_type": "code",
   "execution_count": 1,
   "id": "e97f9e9c",
   "metadata": {},
   "outputs": [],
   "source": [
    "a = 'Apple'"
   ]
  },
  {
   "cell_type": "markdown",
   "id": "08a38bbb",
   "metadata": {},
   "source": [
    "### Exercise 2\n",
    "<span style=\"color:green\">Create the same string from exercise 1 with double quotes, triple single quotes, and triple double quotes saving them to variables `b`, `c`, and `d`. Use a chained comparison to test that all three strings have equal values.</span>"
   ]
  },
  {
   "cell_type": "code",
   "execution_count": 2,
   "id": "f70b0c6f",
   "metadata": {},
   "outputs": [
    {
     "data": {
      "text/plain": [
       "True"
      ]
     },
     "execution_count": 2,
     "metadata": {},
     "output_type": "execute_result"
    }
   ],
   "source": [
    "b = \"Apple\"\n",
    "c = '''Apple'''\n",
    "d = \"\"\"Apple\"\"\"\n",
    "\n",
    "a == b == c == d"
   ]
  },
  {
   "cell_type": "markdown",
   "id": "1e30569b",
   "metadata": {},
   "source": [
    "### Exercise 3\n",
    "<span style=\"color:green\">Create a string using single quotes that contains one double quotes character in it.</span>"
   ]
  },
  {
   "cell_type": "code",
   "execution_count": 3,
   "id": "0446affd",
   "metadata": {},
   "outputs": [
    {
     "data": {
      "text/plain": [
       "'Apple \"soda\"'"
      ]
     },
     "execution_count": 3,
     "metadata": {},
     "output_type": "execute_result"
    }
   ],
   "source": [
    "people = 'Apple \"soda\"'\n",
    "people"
   ]
  },
  {
   "cell_type": "markdown",
   "id": "f5099782",
   "metadata": {},
   "source": [
    "### Exercise 4\n",
    "\n",
    "<span style=\"color:green\">Use escape characters to insert new lines, tabs, and single and double quotes into a string. Print it to the screen to verify.</span>"
   ]
  },
  {
   "cell_type": "code",
   "execution_count": 4,
   "id": "c3a4854c",
   "metadata": {},
   "outputs": [
    {
     "name": "stdout",
     "output_type": "stream",
     "text": [
      "apple \n",
      " soda \t moon ' dope\"\n"
     ]
    }
   ],
   "source": [
    "Ex = 'apple \\n soda \\t moon \\' dope\\\"'\n",
    "print(Ex)"
   ]
  },
  {
   "cell_type": "markdown",
   "id": "4ceb78a8",
   "metadata": {},
   "source": [
    "### Exercise 5\n",
    "\n",
    "<span style=\"color:green\">Use a comparison operator to verify that the strings 'word' and 'WORD' are not equal.</span>"
   ]
  },
  {
   "cell_type": "code",
   "execution_count": 5,
   "id": "7dfeb2fb",
   "metadata": {},
   "outputs": [
    {
     "data": {
      "text/plain": [
       "False"
      ]
     },
     "execution_count": 5,
     "metadata": {},
     "output_type": "execute_result"
    }
   ],
   "source": [
    "'word' == 'WORD'"
   ]
  },
  {
   "cell_type": "markdown",
   "id": "55155110",
   "metadata": {},
   "source": [
    "### Exercise 6\n",
    "\n",
    "<span style=\"color:green\">Which string is greater, 'Zero' or 'hero'?</span>"
   ]
  },
  {
   "cell_type": "code",
   "execution_count": null,
   "id": "f55ac254",
   "metadata": {},
   "outputs": [],
   "source": [
    "hero"
   ]
  },
  {
   "cell_type": "markdown",
   "id": "106aeead",
   "metadata": {},
   "source": [
    "### Exercise 7\n",
    "\n",
    "<span style=\"color:green\">Use the `ord` function to verify the result from exercise 6.</span>"
   ]
  },
  {
   "cell_type": "code",
   "execution_count": 8,
   "id": "4a7fbaf2",
   "metadata": {},
   "outputs": [
    {
     "name": "stdout",
     "output_type": "stream",
     "text": [
      "104\n",
      "90\n"
     ]
    }
   ],
   "source": [
    "print (ord('h'))\n",
    "print (ord('Z'))"
   ]
  },
  {
   "cell_type": "markdown",
   "id": "5890a2fa",
   "metadata": {},
   "source": [
    "### Exercise 8\n",
    "\n",
    "<span style=\"color:green\">Is it possible to concatenate a string and an integer together?</span>"
   ]
  },
  {
   "cell_type": "code",
   "execution_count": null,
   "id": "f941fe8b",
   "metadata": {},
   "outputs": [],
   "source": [
    "yes"
   ]
  },
  {
   "cell_type": "markdown",
   "id": "ae1188d5",
   "metadata": {},
   "source": [
    "### Exercise 9\n",
    "\n",
    "<span style=\"color:green\">Concatenate two strings together that both have length greater than 1.</span>"
   ]
  },
  {
   "cell_type": "code",
   "execution_count": 9,
   "id": "3a08e2a1",
   "metadata": {},
   "outputs": [
    {
     "data": {
      "text/plain": [
       "'apple side'"
      ]
     },
     "execution_count": 9,
     "metadata": {},
     "output_type": "execute_result"
    }
   ],
   "source": [
    "\"apple\" + \" side\""
   ]
  },
  {
   "cell_type": "markdown",
   "id": "06624401",
   "metadata": {},
   "source": [
    "### Exercise 10\n",
    "\n",
    "<span style=\"color:green\">Concatenate a non-empty string to an empty string.</span>"
   ]
  },
  {
   "cell_type": "code",
   "execution_count": 10,
   "id": "509c47b9",
   "metadata": {},
   "outputs": [
    {
     "data": {
      "text/plain": [
       "' door'"
      ]
     },
     "execution_count": 10,
     "metadata": {},
     "output_type": "execute_result"
    }
   ],
   "source": [
    "\" \" + 'door'"
   ]
  },
  {
   "cell_type": "code",
   "execution_count": null,
   "id": "b32a6c10",
   "metadata": {},
   "outputs": [],
   "source": []
  },
  {
   "cell_type": "markdown",
   "id": "fb575a88",
   "metadata": {},
   "source": [
    "### Exercise 11\n",
    "\n",
    "<span style=\"color:green\">Replace each occurrence of 'in' with 'out' in the following string. </span>"
   ]
  },
  {
   "cell_type": "code",
   "execution_count": 11,
   "id": "429f7e8e",
   "metadata": {
    "scrolled": true
   },
   "outputs": [],
   "source": [
    "replace_string = 'it is starting to rain on the inside'"
   ]
  },
  {
   "cell_type": "code",
   "execution_count": 12,
   "id": "e9a04aab",
   "metadata": {},
   "outputs": [
    {
     "data": {
      "text/plain": [
       "'it is startoutg to raout on the outside'"
      ]
     },
     "execution_count": 12,
     "metadata": {},
     "output_type": "execute_result"
    }
   ],
   "source": [
    "replace_string.replace('in','out',-1)"
   ]
  },
  {
   "cell_type": "code",
   "execution_count": null,
   "id": "07defe08",
   "metadata": {},
   "outputs": [],
   "source": []
  },
  {
   "cell_type": "markdown",
   "id": "b9dd7f52",
   "metadata": {},
   "source": [
    "### Exercise 12\n",
    "\n",
    "<span style=\"color:green\">Find and use a method that will strip away all the exclamation points from either end of the following string.</span>"
   ]
  },
  {
   "cell_type": "code",
   "execution_count": 13,
   "id": "d1e8a6e5",
   "metadata": {},
   "outputs": [
    {
     "data": {
      "text/plain": [
       "'string with a dull message'"
      ]
     },
     "execution_count": 13,
     "metadata": {},
     "output_type": "execute_result"
    }
   ],
   "source": [
    "s = 'string with a dull message!!!!'\n",
    "s.rstrip('!')"
   ]
  },
  {
   "cell_type": "markdown",
   "id": "a91c6c7c",
   "metadata": {},
   "source": [
    "### Exercise 13\n",
    "\n",
    "<span style=\"color:green\">Find and use a method that will find the position of the first occurrence of the letter `t` in the following string. </span>"
   ]
  },
  {
   "cell_type": "code",
   "execution_count": 14,
   "id": "e27ca38e",
   "metadata": {},
   "outputs": [
    {
     "data": {
      "text/plain": [
       "4"
      ]
     },
     "execution_count": 14,
     "metadata": {},
     "output_type": "execute_result"
    }
   ],
   "source": [
    "s = 'a data scientist'\n",
    "s.find('t')"
   ]
  },
  {
   "cell_type": "markdown",
   "id": "71d32145",
   "metadata": {},
   "source": [
    "### Exercise 14\n",
    "\n",
    "<span style=\"color:green\">Use a method chain to do the following to the given string: Strip each letter 'a' from the left side and then switch the case of each letter (from lower to upper and from upper to lower).</span>"
   ]
  },
  {
   "cell_type": "code",
   "execution_count": 17,
   "id": "7d5a73d7",
   "metadata": {},
   "outputs": [
    {
     "data": {
      "text/plain": [
       "' too MANY AAAAAAAAA'"
      ]
     },
     "execution_count": 17,
     "metadata": {},
     "output_type": "execute_result"
    }
   ],
   "source": [
    "test_string = 'aaaa TOO many aaaaaaaaa'\n",
    "test_string.lstrip('a').swapcase()"
   ]
  },
  {
   "cell_type": "markdown",
   "id": "86975b86",
   "metadata": {},
   "source": [
    "### Exercises 15-22\n",
    "\n",
    "Use the following string, `s`, for all exercises 15-22"
   ]
  },
  {
   "cell_type": "code",
   "execution_count": 18,
   "id": "6876a349",
   "metadata": {},
   "outputs": [],
   "source": [
    "s = 'the astros will win the world series'"
   ]
  },
  {
   "cell_type": "markdown",
   "id": "125061a1",
   "metadata": {},
   "source": [
    "### Exercise 15\n",
    "\n",
    "<span style=\"color:green\">Select index 9 from `s`.</span>"
   ]
  },
  {
   "cell_type": "code",
   "execution_count": 19,
   "id": "6fbe3df5",
   "metadata": {},
   "outputs": [
    {
     "data": {
      "text/plain": [
       "'s'"
      ]
     },
     "execution_count": 19,
     "metadata": {},
     "output_type": "execute_result"
    }
   ],
   "source": [
    "s[9]"
   ]
  },
  {
   "cell_type": "markdown",
   "id": "645f2f2a",
   "metadata": {},
   "source": [
    "### Exercise 16\n",
    "\n",
    "<span style=\"color:green\">Select the third to last character from `s`.</span>"
   ]
  },
  {
   "cell_type": "code",
   "execution_count": 20,
   "id": "b22bdcde",
   "metadata": {},
   "outputs": [
    {
     "data": {
      "text/plain": [
       "'i'"
      ]
     },
     "execution_count": 20,
     "metadata": {},
     "output_type": "execute_result"
    }
   ],
   "source": [
    "s[-3]"
   ]
  },
  {
   "cell_type": "markdown",
   "id": "6435cec1",
   "metadata": {},
   "source": [
    "### Exercise 17\n",
    "\n",
    "<span style=\"color:green\">Select the last 10 characters from `s`.</span>"
   ]
  },
  {
   "cell_type": "code",
   "execution_count": 21,
   "id": "2a2d331d",
   "metadata": {},
   "outputs": [
    {
     "data": {
      "text/plain": [
       "'rld series'"
      ]
     },
     "execution_count": 21,
     "metadata": {},
     "output_type": "execute_result"
    }
   ],
   "source": [
    "s[-10:]"
   ]
  },
  {
   "cell_type": "markdown",
   "id": "9f9e9053",
   "metadata": {},
   "source": [
    "### Exercise 18\n",
    "\n",
    "<span style=\"color:green\">Select the substring 'astros' from `s`.</span>"
   ]
  },
  {
   "cell_type": "code",
   "execution_count": 23,
   "id": "b9cccfc4",
   "metadata": {},
   "outputs": [
    {
     "data": {
      "text/plain": [
       "'astros'"
      ]
     },
     "execution_count": 23,
     "metadata": {},
     "output_type": "execute_result"
    }
   ],
   "source": [
    "s[4:10]"
   ]
  },
  {
   "cell_type": "markdown",
   "id": "3c861052",
   "metadata": {},
   "source": [
    "### Exercise 19\n",
    "\n",
    "<span style=\"color:green\">Slice `s` from index 5 to the end by every 4th character.</span>"
   ]
  },
  {
   "cell_type": "code",
   "execution_count": 22,
   "id": "45137447",
   "metadata": {},
   "outputs": [
    {
     "data": {
      "text/plain": [
       "'ssliho i'"
      ]
     },
     "execution_count": 22,
     "metadata": {},
     "output_type": "execute_result"
    }
   ],
   "source": [
    "s[5::4]"
   ]
  },
  {
   "cell_type": "markdown",
   "id": "9f1ddee7",
   "metadata": {},
   "source": [
    "### Exercise 20\n",
    "\n",
    "<span style=\"color:green\">Select every third character from `s` starting from the last character and ending with the first. </span>"
   ]
  },
  {
   "cell_type": "code",
   "execution_count": 24,
   "id": "26244efa",
   "metadata": {},
   "outputs": [
    {
     "data": {
      "text/plain": [
       "'sr r tilwose'"
      ]
     },
     "execution_count": 24,
     "metadata": {},
     "output_type": "execute_result"
    }
   ],
   "source": [
    "s[::-3]"
   ]
  },
  {
   "cell_type": "markdown",
   "id": "49ff1128",
   "metadata": {},
   "source": [
    "### Exercise 21\n",
    "\n",
    "<span style=\"color:green\">Does the string 'row' appear in `s`?</span>"
   ]
  },
  {
   "cell_type": "code",
   "execution_count": 25,
   "id": "f50f7b96",
   "metadata": {},
   "outputs": [
    {
     "data": {
      "text/plain": [
       "False"
      ]
     },
     "execution_count": 25,
     "metadata": {},
     "output_type": "execute_result"
    }
   ],
   "source": [
    "'row'in s"
   ]
  },
  {
   "cell_type": "markdown",
   "id": "a23d99ad",
   "metadata": {},
   "source": [
    "### Exercise 22\n",
    "\n",
    "<span style=\"color:green\">Does the string 'row' appear in the reverse of `s`?</span>"
   ]
  },
  {
   "cell_type": "code",
   "execution_count": 26,
   "id": "6ebf2404",
   "metadata": {},
   "outputs": [
    {
     "data": {
      "text/plain": [
       "True"
      ]
     },
     "execution_count": 26,
     "metadata": {},
     "output_type": "execute_result"
    }
   ],
   "source": [
    "'row' in s[::-1]"
   ]
  },
  {
   "cell_type": "markdown",
   "id": "873d1021",
   "metadata": {},
   "source": [
    "### Exercise 23\n",
    "\n",
    "<span style=\"color:green\">A palindrome is a string that has the same order of characters when it is reversed. Create a palindrome that has at least 5 characters in it and assign it to variable `a`. Verify that it is a palindrome.</span>"
   ]
  },
  {
   "cell_type": "code",
   "execution_count": 27,
   "id": "d1983704",
   "metadata": {},
   "outputs": [
    {
     "data": {
      "text/plain": [
       "True"
      ]
     },
     "execution_count": 27,
     "metadata": {},
     "output_type": "execute_result"
    }
   ],
   "source": [
    "a = 'PoaaoP'\n",
    "a == a[::-1]"
   ]
  },
  {
   "cell_type": "markdown",
   "id": "bf6de332",
   "metadata": {},
   "source": [
    "### Exercise 24\n",
    "\n",
    "<span style=\"color:green\">Use four chained methods on a string of your choice.</span>"
   ]
  },
  {
   "cell_type": "code",
   "execution_count": 28,
   "id": "931726e3",
   "metadata": {},
   "outputs": [
    {
     "data": {
      "text/plain": [
       "2"
      ]
     },
     "execution_count": 28,
     "metadata": {},
     "output_type": "execute_result"
    }
   ],
   "source": [
    "test_string.lstrip('a').swapcase().replace('A','E').find('o')"
   ]
  },
  {
   "cell_type": "markdown",
   "id": "b2f0c2c0",
   "metadata": {},
   "source": [
    "### Exercise 25\n",
    "\n",
    "<span style=\"color:green\">What is the difference between the `find` and `rfind` methods? Call both of these methods on a string of your choice to show the difference.</span>"
   ]
  },
  {
   "cell_type": "code",
   "execution_count": 30,
   "id": "2f18b6bd",
   "metadata": {},
   "outputs": [
    {
     "name": "stdout",
     "output_type": "stream",
     "text": [
      "0\n",
      "21\n"
     ]
    }
   ],
   "source": [
    "#Find returns the first instance while Rfind returns the last instance\n",
    "win = 'A New Day is upon us All'\n",
    "print(win.find('A'))\n",
    "print(win.rfind('A'))"
   ]
  },
  {
   "cell_type": "markdown",
   "id": "fd3efd33",
   "metadata": {},
   "source": [
    "### Exercise 26\n",
    "\n",
    "<span style=\"color:green\">Create an f-string that inserts the values for `team` and `games` in it.</span>"
   ]
  },
  {
   "cell_type": "code",
   "execution_count": 34,
   "id": "d01ba9e5",
   "metadata": {},
   "outputs": [
    {
     "data": {
      "text/plain": [
       "'I kinda like Astros because they won 99 times this year'"
      ]
     },
     "execution_count": 34,
     "metadata": {},
     "output_type": "execute_result"
    }
   ],
   "source": [
    "team = \"Astros\"\n",
    "games = 99\n",
    "\n",
    "f'I kinda like {team} because they won {games} times this year'"
   ]
  },
  {
   "cell_type": "code",
   "execution_count": null,
   "id": "ad49b156",
   "metadata": {},
   "outputs": [],
   "source": []
  }
 ],
 "metadata": {
  "kernelspec": {
   "display_name": "Python 3 (ipykernel)",
   "language": "python",
   "name": "python3"
  },
  "language_info": {
   "codemirror_mode": {
    "name": "ipython",
    "version": 3
   },
   "file_extension": ".py",
   "mimetype": "text/x-python",
   "name": "python",
   "nbconvert_exporter": "python",
   "pygments_lexer": "ipython3",
   "version": "3.10.8"
  }
 },
 "nbformat": 4,
 "nbformat_minor": 5
}
