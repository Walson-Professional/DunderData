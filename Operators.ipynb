{
 "cells": [
  {
   "cell_type": "markdown",
   "id": "bc3a6748",
   "metadata": {},
   "source": [
    "## Exercises for Module 1 - Operators\n",
    "\n",
    "Place your solutions to the exercises in the empty code cell directly below the exercise.\n",
    "\n",
    "### Solutions\n",
    "\n",
    "All the solutions to the exercises may be found in the **Solutions** notebook. Make sure to attempt the exercises before looking at the solutions. Even if you have solved the exercise correctly, it can be helpful to see the provided solution. There are often multiple ways of arriving at the same answer and there might be a more direct or effective way."
   ]
  },
  {
   "cell_type": "markdown",
   "id": "95ec7ce2",
   "metadata": {},
   "source": [
    "### Exercise 1\n",
    "\n",
    "<span style=\"color:green\">How many seconds are there in a century assuming each year has 365 days?</span>"
   ]
  },
  {
   "cell_type": "code",
   "execution_count": 1,
   "id": "78f297bb",
   "metadata": {},
   "outputs": [
    {
     "data": {
      "text/plain": [
       "31536000"
      ]
     },
     "execution_count": 1,
     "metadata": {},
     "output_type": "execute_result"
    }
   ],
   "source": [
    "60*60*24*365"
   ]
  },
  {
   "cell_type": "markdown",
   "id": "7f9e7090",
   "metadata": {},
   "source": [
    "### Exercise 2\n",
    "\n",
    "<span style=\"color:green\">Write an expression to find the amount of money (as a whole number rounded down to the nearest integer) that each person would get if a one-million dollar lottery was divided equally amongst 436 people.</span>"
   ]
  },
  {
   "cell_type": "code",
   "execution_count": 2,
   "id": "7b72a546",
   "metadata": {},
   "outputs": [
    {
     "data": {
      "text/plain": [
       "2293"
      ]
     },
     "execution_count": 2,
     "metadata": {},
     "output_type": "execute_result"
    }
   ],
   "source": [
    "1000000 // 436"
   ]
  },
  {
   "cell_type": "markdown",
   "id": "de2acd8d",
   "metadata": {},
   "source": [
    "### Exercise 3\n",
    "\n",
    "<span style=\"color:green\">Repeat exercise 2, except use one-trillion dollars. Use the exponentiation operator instead of writing lots of 0's.</span>"
   ]
  },
  {
   "cell_type": "code",
   "execution_count": 3,
   "id": "b099d26d",
   "metadata": {},
   "outputs": [
    {
     "data": {
      "text/plain": [
       "2293577981"
      ]
     },
     "execution_count": 3,
     "metadata": {},
     "output_type": "execute_result"
    }
   ],
   "source": [
    "(10 ** 12) // 436"
   ]
  },
  {
   "cell_type": "markdown",
   "id": "e3ea5c99",
   "metadata": {},
   "source": [
    "### Exercise 4\n",
    "\n",
    "<span style=\"color:green\">From the 1 million dollars, how much money is left over after giving each of the 436 people the amount of money calculated from Exercise 2.</span>"
   ]
  },
  {
   "cell_type": "code",
   "execution_count": 4,
   "id": "791be66f",
   "metadata": {},
   "outputs": [
    {
     "data": {
      "text/plain": [
       "252"
      ]
     },
     "execution_count": 4,
     "metadata": {},
     "output_type": "execute_result"
    }
   ],
   "source": [
    "1000000 % 436"
   ]
  },
  {
   "cell_type": "markdown",
   "id": "bef9be77",
   "metadata": {},
   "source": [
    "### Exercise 5\n",
    "\n",
    "<span style=\"color:green\">Is 245 times 99 greater than 8 raised to the 5th power?</span>"
   ]
  },
  {
   "cell_type": "code",
   "execution_count": 6,
   "id": "d01f0ca5",
   "metadata": {},
   "outputs": [
    {
     "data": {
      "text/plain": [
       "False"
      ]
     },
     "execution_count": 6,
     "metadata": {},
     "output_type": "execute_result"
    }
   ],
   "source": [
    "(245 * 99) > (8 ** 5)"
   ]
  },
  {
   "cell_type": "markdown",
   "id": "88dfd78f",
   "metadata": {},
   "source": [
    "### Exercise 6\n",
    "\n",
    "<span style=\"color:green\">Used a chained comparison to show that 2 raised to the 10th power is greater than 10 raised to the 3rd power which is greater than 31 squared.</span>"
   ]
  },
  {
   "cell_type": "code",
   "execution_count": 7,
   "id": "56a94bb8",
   "metadata": {},
   "outputs": [
    {
     "data": {
      "text/plain": [
       "True"
      ]
     },
     "execution_count": 7,
     "metadata": {},
     "output_type": "execute_result"
    }
   ],
   "source": [
    "2 ** 10 > 10 ** 3 > 31 ** 2"
   ]
  },
  {
   "cell_type": "markdown",
   "id": "fb6e4509",
   "metadata": {},
   "source": [
    "### Exercise 7\n",
    "\n",
    "<span style=\"color:green\">How many unary operators are present in the following expression? </span>\n",
    "    \n",
    "```python\n",
    "-6 / -5 - 4 - 3 ** 2 * -1\n",
    "```"
   ]
  },
  {
   "cell_type": "code",
   "execution_count": null,
   "id": "9fdf78e0",
   "metadata": {},
   "outputs": [],
   "source": [
    "3"
   ]
  },
  {
   "cell_type": "markdown",
   "id": "1a2f5b66",
   "metadata": {},
   "source": [
    "### Exercise 8\n",
    "<span style=\"color:green\">Create an expression that uses arithmetic, comparison, unary, and boolean operators that evaluates to `False`.</span>"
   ]
  },
  {
   "cell_type": "code",
   "execution_count": 8,
   "id": "eed13385",
   "metadata": {},
   "outputs": [
    {
     "data": {
      "text/plain": [
       "False"
      ]
     },
     "execution_count": 8,
     "metadata": {},
     "output_type": "execute_result"
    }
   ],
   "source": [
    "-6 + 5 > 10 or 3**5 <10"
   ]
  },
  {
   "cell_type": "markdown",
   "id": "16607783",
   "metadata": {},
   "source": [
    "### Exercise 9\n",
    "\n",
    "<span style=\"color:green\">You purchase a phone for 99 dollars. There is 8 percent sales tax. Compute the total price. Use four variable names to store the phone price, sales tax percentage, calculated sales tax and the total price. Output all the variables at the same time.</span>"
   ]
  },
  {
   "cell_type": "code",
   "execution_count": 10,
   "id": "40287bf9",
   "metadata": {},
   "outputs": [
    {
     "name": "stdout",
     "output_type": "stream",
     "text": [
      "99 0.08 7.92 106.92\n"
     ]
    }
   ],
   "source": [
    "phone = 99\n",
    "sales_tax_percent= .08\n",
    "calc_sales_tax = phone * sales_tax_percent\n",
    "total = phone + calc_sales_tax\n",
    "print (phone, sales_tax_percent, calc_sales_tax, total)"
   ]
  },
  {
   "cell_type": "markdown",
   "id": "05991c19",
   "metadata": {},
   "source": [
    "### Exercise 10\n",
    "\n",
    "<span style=\"color:green\">Use an augmented assignment statement to multiply `x` by `y` and reassign that value to y.</span>"
   ]
  },
  {
   "cell_type": "code",
   "execution_count": 11,
   "id": "be21fecb",
   "metadata": {},
   "outputs": [],
   "source": [
    "x = 16\n",
    "y = 32"
   ]
  },
  {
   "cell_type": "code",
   "execution_count": 12,
   "id": "d8242c9d",
   "metadata": {},
   "outputs": [
    {
     "data": {
      "text/plain": [
       "512"
      ]
     },
     "execution_count": 12,
     "metadata": {},
     "output_type": "execute_result"
    }
   ],
   "source": [
    "y *=x\n",
    "y"
   ]
  },
  {
   "cell_type": "code",
   "execution_count": null,
   "id": "6a325da7",
   "metadata": {},
   "outputs": [],
   "source": []
  }
 ],
 "metadata": {
  "kernelspec": {
   "display_name": "Python 3 (ipykernel)",
   "language": "python",
   "name": "python3"
  },
  "language_info": {
   "codemirror_mode": {
    "name": "ipython",
    "version": 3
   },
   "file_extension": ".py",
   "mimetype": "text/x-python",
   "name": "python",
   "nbconvert_exporter": "python",
   "pygments_lexer": "ipython3",
   "version": "3.10.8"
  }
 },
 "nbformat": 4,
 "nbformat_minor": 5
}
