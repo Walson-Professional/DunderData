{
 "cells": [
  {
   "cell_type": "markdown",
   "id": "048b5eea",
   "metadata": {},
   "source": [
    "## Exercises for Module 3 - Objects and Types\n",
    "\n",
    "Place your solutions to the exercises in the empty code cell directly below the exercise.\n",
    "\n",
    "### Solutions\n",
    "\n",
    "All the solutions to the exercises may be found in the **Solutions** notebook. Make sure to attempt the exercises before looking at the solutions. Even if you have solved the exercise correctly, it can be helpful to see the provided solution. There are often multiple ways of arriving at the same answer and there might be a more direct or effective way."
   ]
  },
  {
   "cell_type": "markdown",
   "id": "8663d303",
   "metadata": {},
   "source": [
    "### Exercise 1\n",
    "\n",
    "<span style=\"color:green\">What is the type of the number 0?</span>"
   ]
  },
  {
   "cell_type": "code",
   "execution_count": 1,
   "id": "3acfc03a",
   "metadata": {},
   "outputs": [
    {
     "data": {
      "text/plain": [
       "int"
      ]
     },
     "execution_count": 1,
     "metadata": {},
     "output_type": "execute_result"
    }
   ],
   "source": [
    "type(0)"
   ]
  },
  {
   "cell_type": "markdown",
   "id": "56292111",
   "metadata": {},
   "source": [
    "### Exercise 2\n",
    "\n",
    "<span style=\"color:green\">What is `True` raised to the `False`?</span>"
   ]
  },
  {
   "cell_type": "code",
   "execution_count": 2,
   "id": "a98cc6b9",
   "metadata": {},
   "outputs": [
    {
     "data": {
      "text/plain": [
       "1"
      ]
     },
     "execution_count": 2,
     "metadata": {},
     "output_type": "execute_result"
    }
   ],
   "source": [
    "True ** False"
   ]
  },
  {
   "cell_type": "markdown",
   "id": "df4a0d58",
   "metadata": {},
   "source": [
    "### Exercise 3\n",
    "\n",
    "<span style=\"color:green\">Verify that `1e6` and one million are equivalent.</span>"
   ]
  },
  {
   "cell_type": "code",
   "execution_count": 4,
   "id": "25751eaa",
   "metadata": {},
   "outputs": [
    {
     "data": {
      "text/plain": [
       "True"
      ]
     },
     "execution_count": 4,
     "metadata": {},
     "output_type": "execute_result"
    }
   ],
   "source": [
    "1e6 == 1000000"
   ]
  },
  {
   "cell_type": "markdown",
   "id": "6bfa7385",
   "metadata": {},
   "source": [
    "### Exercise 4\n",
    "\n",
    "<span style=\"color:green\">Do you think the operation `6 / 2` will result in an int or a float? Use the `type` function to see if you were correct. Was it the type you expected? Why do you think it evaluates as that type? </span>"
   ]
  },
  {
   "cell_type": "code",
   "execution_count": 5,
   "id": "2d82f3c0",
   "metadata": {},
   "outputs": [
    {
     "data": {
      "text/plain": [
       "float"
      ]
     },
     "execution_count": 5,
     "metadata": {},
     "output_type": "execute_result"
    }
   ],
   "source": [
    "type(6/2)"
   ]
  },
  {
   "cell_type": "markdown",
   "id": "1270ef24",
   "metadata": {},
   "source": [
    "### Exercise 5\n",
    "\n",
    "<span style=\"color:green\">Write the number 1 million using underscores where commas would normally go.</span>"
   ]
  },
  {
   "cell_type": "code",
   "execution_count": 6,
   "id": "8403923e",
   "metadata": {},
   "outputs": [
    {
     "data": {
      "text/plain": [
       "1000000"
      ]
     },
     "execution_count": 6,
     "metadata": {},
     "output_type": "execute_result"
    }
   ],
   "source": [
    "1_000_000"
   ]
  },
  {
   "cell_type": "code",
   "execution_count": null,
   "id": "d2dc3c66",
   "metadata": {},
   "outputs": [],
   "source": []
  }
 ],
 "metadata": {
  "kernelspec": {
   "display_name": "Python 3 (ipykernel)",
   "language": "python",
   "name": "python3"
  },
  "language_info": {
   "codemirror_mode": {
    "name": "ipython",
    "version": 3
   },
   "file_extension": ".py",
   "mimetype": "text/x-python",
   "name": "python",
   "nbconvert_exporter": "python",
   "pygments_lexer": "ipython3",
   "version": "3.10.8"
  }
 },
 "nbformat": 4,
 "nbformat_minor": 5
}
