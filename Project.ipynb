{
 "cells": [
  {
   "cell_type": "markdown",
   "id": "048b5eea",
   "metadata": {},
   "source": [
    "## Exercises for Module 2 - What is Python?\n",
    "\n",
    "Place your solutions to the exercises in the empty code cell directly below the exercise.\n",
    "\n",
    "### Solutions\n",
    "\n",
    "All the solutions to the exercises may be found in the **Solutions** notebook. Make sure to attempt the exercises before looking at the solutions. Even if you have solved the exercise correctly, it can be helpful to see the provided solution. There are often multiple ways of arriving at the same answer and there might be a more direct or effective way."
   ]
  },
  {
   "cell_type": "markdown",
   "id": "95ec7ce2",
   "metadata": {},
   "source": [
    "### Exercise 1\n",
    "\n",
    "<span style=\"color:green\">Using the English language, implement the command \"Bake a Chocolate cake\".</span>"
   ]
  },
  {
   "cell_type": "code",
   "execution_count": null,
   "id": "e1aca8f0",
   "metadata": {},
   "outputs": [],
   "source": [
    "Go to store\n",
    "Buy cake mix\n",
    "buy ingredients listed on cake mix box\n",
    "follow box directions"
   ]
  },
  {
   "cell_type": "markdown",
   "id": "7f9e7090",
   "metadata": {},
   "source": [
    "### Exercise 2\n",
    "\n",
    "<span style=\"color:green\">True or False: The implementation of a computer language holds the specific rules for what each command means precisely. It is the \"ground truth\" of what is meant by the language.</span>"
   ]
  },
  {
   "cell_type": "code",
   "execution_count": null,
   "id": "5a76a874",
   "metadata": {},
   "outputs": [],
   "source": [
    "False.  The above references specification"
   ]
  },
  {
   "cell_type": "markdown",
   "id": "de2acd8d",
   "metadata": {},
   "source": [
    "### Exercise 3\n",
    "\n",
    "<span style=\"color:green\">Which one of the following is invalid Python syntax</span>\n",
    "\n",
    "* `5   +   8`\n",
    "* `5+8`\n",
    "* `5 >= 3`\n",
    "* `5 > = 3`"
   ]
  },
  {
   "cell_type": "code",
   "execution_count": null,
   "id": "b099d26d",
   "metadata": {},
   "outputs": [],
   "source": [
    "the 4th one"
   ]
  }
 ],
 "metadata": {
  "kernelspec": {
   "display_name": "Python 3 (ipykernel)",
   "language": "python",
   "name": "python3"
  },
  "language_info": {
   "codemirror_mode": {
    "name": "ipython",
    "version": 3
   },
   "file_extension": ".py",
   "mimetype": "text/x-python",
   "name": "python",
   "nbconvert_exporter": "python",
   "pygments_lexer": "ipython3",
   "version": "3.10.8"
  }
 },
 "nbformat": 4,
 "nbformat_minor": 5
}
