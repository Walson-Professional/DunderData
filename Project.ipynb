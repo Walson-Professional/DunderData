{
 "cells": [
  {
   "cell_type": "markdown",
   "id": "36fdc868",
   "metadata": {},
   "source": [
    "## Exercises for Module 5 - Lists"
   ]
  },
  {
   "cell_type": "markdown",
   "id": "4826f0f2",
   "metadata": {},
   "source": [
    "### Exercise 1\n",
    "\n",
    "<span style=\"color:green\">Create a list with 4 items that are each a different type and assign it to variable. Output it to the screen.</span> "
   ]
  },
  {
   "cell_type": "code",
   "execution_count": 2,
   "id": "d0e85230",
   "metadata": {},
   "outputs": [
    {
     "data": {
      "text/plain": [
       "[10, 'string', True, 5.3]"
      ]
     },
     "execution_count": 2,
     "metadata": {},
     "output_type": "execute_result"
    }
   ],
   "source": [
    "a = [10, 'string', True, 5.3]\n",
    "a"
   ]
  },
  {
   "cell_type": "markdown",
   "id": "31f595e6",
   "metadata": {},
   "source": [
    "### Exercise 2\n",
    "\n",
    "<span style=\"color:green\">Verify that list `a` from exercise 1 has length 4.</span> "
   ]
  },
  {
   "cell_type": "code",
   "execution_count": 3,
   "id": "2bcea6ee",
   "metadata": {},
   "outputs": [
    {
     "data": {
      "text/plain": [
       "4"
      ]
     },
     "execution_count": 3,
     "metadata": {},
     "output_type": "execute_result"
    }
   ],
   "source": [
    "len(a)"
   ]
  },
  {
   "cell_type": "markdown",
   "id": "5d0a69fa",
   "metadata": {},
   "source": [
    "### Exercise 3\n",
    "\n",
    "<span style=\"color:green\">Select the first item from list `a`.</span> "
   ]
  },
  {
   "cell_type": "code",
   "execution_count": 4,
   "id": "a4333aa0",
   "metadata": {},
   "outputs": [
    {
     "data": {
      "text/plain": [
       "10"
      ]
     },
     "execution_count": 4,
     "metadata": {},
     "output_type": "execute_result"
    }
   ],
   "source": [
    "a[0]"
   ]
  },
  {
   "cell_type": "markdown",
   "id": "ccb93350",
   "metadata": {},
   "source": [
    "### Exercise 4\n",
    "\n",
    "<span style=\"color:green\">Select the last item from list `a`.</span> "
   ]
  },
  {
   "cell_type": "code",
   "execution_count": 5,
   "id": "715981ef",
   "metadata": {},
   "outputs": [
    {
     "data": {
      "text/plain": [
       "5.3"
      ]
     },
     "execution_count": 5,
     "metadata": {},
     "output_type": "execute_result"
    }
   ],
   "source": [
    "a[len(a)-1]\n",
    "### wanted to get fancy on em"
   ]
  },
  {
   "cell_type": "markdown",
   "id": "e6ee93d9",
   "metadata": {},
   "source": [
    "### Exercise 5\n",
    "\n",
    "<span style=\"color:green\">Assign the third item in list `a` a different value of the same type. Output the list.</span> "
   ]
  },
  {
   "cell_type": "code",
   "execution_count": 6,
   "id": "34d11ee7",
   "metadata": {},
   "outputs": [
    {
     "data": {
      "text/plain": [
       "[10, 'string', False, 5.3]"
      ]
     },
     "execution_count": 6,
     "metadata": {},
     "output_type": "execute_result"
    }
   ],
   "source": [
    "a[2]=False\n",
    "a"
   ]
  },
  {
   "cell_type": "markdown",
   "id": "00249510",
   "metadata": {},
   "source": [
    "### Exercise 6\n",
    "\n",
    "<span style=\"color:green\">Mutate `list_2` and output both lists. Does mutating `list_2` change `list_1`? </span> "
   ]
  },
  {
   "cell_type": "code",
   "execution_count": 9,
   "id": "7dc9f5a2",
   "metadata": {},
   "outputs": [],
   "source": [
    "list_1 = [1, 5, 10]\n",
    "\n",
    "list_2 = list_1\n",
    "\n",
    "list_2[0]= 3"
   ]
  },
  {
   "cell_type": "code",
   "execution_count": 10,
   "id": "5acc7cac",
   "metadata": {},
   "outputs": [
    {
     "data": {
      "text/plain": [
       "True"
      ]
     },
     "execution_count": 10,
     "metadata": {},
     "output_type": "execute_result"
    }
   ],
   "source": [
    "list_1 is list_2"
   ]
  },
  {
   "cell_type": "markdown",
   "id": "f380bd77",
   "metadata": {},
   "source": [
    "### Exercise 7\n",
    "\n",
    "<span style=\"color:green\">Verify that `list_1` and `list_2` from exercise 6 refer to the same object.</span> "
   ]
  },
  {
   "cell_type": "code",
   "execution_count": 11,
   "id": "11d1f814",
   "metadata": {},
   "outputs": [
    {
     "data": {
      "text/plain": [
       "True"
      ]
     },
     "execution_count": 11,
     "metadata": {},
     "output_type": "execute_result"
    }
   ],
   "source": [
    "list_1 is list_2"
   ]
  },
  {
   "cell_type": "markdown",
   "id": "b5f05fa8",
   "metadata": {},
   "source": [
    "### Exercise 8\n",
    "\n",
    "<span style=\"color:green\">In the following code, both `list_1` and `list_2` are defined to have the same values. Mutate `list_1`. Does `list_2` also get mutated?</span> "
   ]
  },
  {
   "cell_type": "code",
   "execution_count": 12,
   "id": "07e368e5",
   "metadata": {},
   "outputs": [],
   "source": [
    "list_1 = [1, 3, 5]\n",
    "list_2 = [1, 3, 5]"
   ]
  },
  {
   "cell_type": "code",
   "execution_count": 13,
   "id": "3f0f3dda",
   "metadata": {},
   "outputs": [
    {
     "data": {
      "text/plain": [
       "[1, 3, 5]"
      ]
     },
     "execution_count": 13,
     "metadata": {},
     "output_type": "execute_result"
    }
   ],
   "source": [
    "list_1[1]=4\n",
    "list_2"
   ]
  },
  {
   "cell_type": "markdown",
   "id": "7a4bc012",
   "metadata": {},
   "source": [
    "### Exercise 9\n",
    "\n",
    "<span style=\"color:green\">Verify that `list_1` and `list_2` from exercise 8 do not refer to the same object.</span> "
   ]
  },
  {
   "cell_type": "code",
   "execution_count": 14,
   "id": "85df9a88",
   "metadata": {},
   "outputs": [
    {
     "data": {
      "text/plain": [
       "False"
      ]
     },
     "execution_count": 14,
     "metadata": {},
     "output_type": "execute_result"
    }
   ],
   "source": [
    "list_1 is list_2"
   ]
  },
  {
   "cell_type": "markdown",
   "id": "a661a2cd",
   "metadata": {},
   "source": [
    "### Exercise 10\n",
    "\n",
    "<span style=\"color:green\">Does the identity of a list change after it is sorted? Use an example to determine the outcome.</span> "
   ]
  },
  {
   "cell_type": "code",
   "execution_count": 16,
   "id": "2859d54c",
   "metadata": {},
   "outputs": [
    {
     "name": "stdout",
     "output_type": "stream",
     "text": [
      "2505629650112\n",
      "2505629650112\n"
     ]
    },
    {
     "data": {
      "text/plain": [
       "[1, 2, 7, 8, 9]"
      ]
     },
     "execution_count": 16,
     "metadata": {},
     "output_type": "execute_result"
    }
   ],
   "source": [
    "exlist = [1,2,9,8,7]\n",
    "print(id(exlist))\n",
    "exlist.sort()\n",
    "print(id(exlist))\n",
    "exlist"
   ]
  },
  {
   "cell_type": "markdown",
   "id": "db51af87",
   "metadata": {},
   "source": [
    "### Exercise 11\n",
    "\n",
    "<span style=\"color:green\">Create two lists of different lengths and assign them to variables `a` and `b`. Use the + operator to concatenate the lists and assign the result to variable `c` and output it. Reassign the first value of list `c` to something else. Does list `a` also get mutated?</span>"
   ]
  },
  {
   "cell_type": "code",
   "execution_count": 17,
   "id": "1d066802",
   "metadata": {},
   "outputs": [
    {
     "name": "stdout",
     "output_type": "stream",
     "text": [
      "['two', 2, 3, 4, 5, 6, 7]\n",
      "[1, 2, 3]\n"
     ]
    }
   ],
   "source": [
    "a = [1,2,3]\n",
    "b = [4,5,6,7]\n",
    "c = a + b\n",
    "c[0]= 'two'\n",
    "print(c)\n",
    "print(a)"
   ]
  },
  {
   "cell_type": "markdown",
   "id": "af9a5fd7",
   "metadata": {},
   "source": [
    "### Exercise 12\n",
    "\n",
    "<span style=\"color:green\">Create a list then use the `extend` method to add items to it.</span>"
   ]
  },
  {
   "cell_type": "code",
   "execution_count": 20,
   "id": "1b62c6a0",
   "metadata": {},
   "outputs": [
    {
     "data": {
      "text/plain": [
       "[1, 2, 'a']"
      ]
     },
     "execution_count": 20,
     "metadata": {},
     "output_type": "execute_result"
    }
   ],
   "source": [
    "twlist = [1,2]\n",
    "twlist.extend('a')\n",
    "twlist"
   ]
  },
  {
   "cell_type": "markdown",
   "id": "5f82ff5d",
   "metadata": {},
   "source": [
    "### Exercise 13\n",
    "\n",
    "<span style=\"color:green\">Create a list of three items and assign it to variable `a`. Concatenate it to itself 4 times.</span>"
   ]
  },
  {
   "cell_type": "code",
   "execution_count": 21,
   "id": "99603a78",
   "metadata": {},
   "outputs": [
    {
     "data": {
      "text/plain": [
       "[1, 2, 3, 1, 2, 3, 1, 2, 3, 1, 2, 3]"
      ]
     },
     "execution_count": 21,
     "metadata": {},
     "output_type": "execute_result"
    }
   ],
   "source": [
    "a = [1,2,3]\n",
    "a * 4"
   ]
  },
  {
   "cell_type": "markdown",
   "id": "16fef36c",
   "metadata": {},
   "source": [
    "### Exercise 14\n",
    "\n",
    "<span style=\"color:green\">Create a list containing three inner lists. Replace the second list with a reverse of the third list.</span>"
   ]
  },
  {
   "cell_type": "code",
   "execution_count": 25,
   "id": "62028c43",
   "metadata": {},
   "outputs": [
    {
     "data": {
      "text/plain": [
       "[[1, 2, 3], [9, 8, 7], [7, 8, 9]]"
      ]
     },
     "execution_count": 25,
     "metadata": {},
     "output_type": "execute_result"
    }
   ],
   "source": [
    "h = [[1,2,3],[4,5,6],[7,8,9]]\n",
    "h[1] = h[2][::-1]\n",
    "h"
   ]
  },
  {
   "cell_type": "markdown",
   "id": "71bc779a",
   "metadata": {},
   "source": [
    "### Exercise 15\n",
    "\n",
    "<span style=\"color:green\">Use a method to find the index of the string 'python' in the following list.</span>"
   ]
  },
  {
   "cell_type": "code",
   "execution_count": 26,
   "id": "3c29c70c",
   "metadata": {},
   "outputs": [
    {
     "data": {
      "text/plain": [
       "2"
      ]
     },
     "execution_count": 26,
     "metadata": {},
     "output_type": "execute_result"
    }
   ],
   "source": [
    "a = ['rattlesnake', 'cottonmouth', 'python', 'cobra']\n",
    "a.index('python')"
   ]
  },
  {
   "cell_type": "markdown",
   "id": "c74fc492",
   "metadata": {},
   "source": [
    "### Exercise 16\n",
    "\n",
    "<span style=\"color:green\">Create an empty list and assign it to a variable. Append the string 'python' to it. Then call the `extend` method and pass the string 'python' to it. Output the list.</span>"
   ]
  },
  {
   "cell_type": "code",
   "execution_count": 27,
   "id": "2749498b",
   "metadata": {},
   "outputs": [
    {
     "data": {
      "text/plain": [
       "['python', 'p', 'y', 't', 'h', 'o', 'n']"
      ]
     },
     "execution_count": 27,
     "metadata": {},
     "output_type": "execute_result"
    }
   ],
   "source": [
    "j = []\n",
    "j.append('python')\n",
    "j.extend('python')\n",
    "j"
   ]
  },
  {
   "cell_type": "markdown",
   "id": "530ab860",
   "metadata": {},
   "source": [
    "### Exercise 17\n",
    "\n",
    "<span style=\"color:green\">Can a list with only booleans, integers, and floats be sorted? Use an example to show why or why not.</span>"
   ]
  },
  {
   "cell_type": "code",
   "execution_count": 29,
   "id": "89045ed9",
   "metadata": {},
   "outputs": [
    {
     "data": {
      "text/plain": [
       "[-9.3, True, 5]"
      ]
     },
     "execution_count": 29,
     "metadata": {},
     "output_type": "execute_result"
    }
   ],
   "source": [
    "### Yes it can be sorted because all of those are numerial\n",
    "\n",
    "k = [True, 5, -9.3]\n",
    "k.sort()\n",
    "k"
   ]
  },
  {
   "cell_type": "markdown",
   "id": "4e2c2949",
   "metadata": {},
   "source": [
    "### Exercise 18\n",
    "\n",
    "<span style=\"color:green\">Select the items with even indexes from list `a` as a new list.</span>"
   ]
  },
  {
   "cell_type": "code",
   "execution_count": 30,
   "id": "1d97cd9c",
   "metadata": {},
   "outputs": [],
   "source": [
    "a = [0, 1, 2, 3, 4, 5, 6, 7, 8, 9, 10]"
   ]
  },
  {
   "cell_type": "code",
   "execution_count": 32,
   "id": "f8be9be6",
   "metadata": {},
   "outputs": [
    {
     "data": {
      "text/plain": [
       "[0, 2, 4, 6, 8, 10]"
      ]
     },
     "execution_count": 32,
     "metadata": {},
     "output_type": "execute_result"
    }
   ],
   "source": [
    "a[::2]"
   ]
  },
  {
   "cell_type": "markdown",
   "id": "dab77910",
   "metadata": {},
   "source": [
    "### Exercise 19\n",
    "\n",
    "<span style=\"color:green\">Is the string 'py' an element of list `a`?</span>"
   ]
  },
  {
   "cell_type": "code",
   "execution_count": 33,
   "id": "7ca03e71",
   "metadata": {},
   "outputs": [
    {
     "data": {
      "text/plain": [
       "False"
      ]
     },
     "execution_count": 33,
     "metadata": {},
     "output_type": "execute_result"
    }
   ],
   "source": [
    "a = ['python', 'numpy']\n",
    "# elements mean a list item\n",
    "'py'in a"
   ]
  },
  {
   "cell_type": "markdown",
   "id": "3dc5cc0e",
   "metadata": {},
   "source": [
    "### Exercise 20\n",
    "\n",
    "<span style=\"color:green\">Is the string 'py' a substring of the first item in list `a`?</span>"
   ]
  },
  {
   "cell_type": "code",
   "execution_count": 34,
   "id": "e57ddb9b",
   "metadata": {},
   "outputs": [
    {
     "data": {
      "text/plain": [
       "True"
      ]
     },
     "execution_count": 34,
     "metadata": {},
     "output_type": "execute_result"
    }
   ],
   "source": [
    "a = ['python', 'numpy']\n",
    "'py' in a[0]"
   ]
  },
  {
   "cell_type": "markdown",
   "id": "c9705705",
   "metadata": {},
   "source": [
    "### Exercise 21\n",
    "\n",
    "<span style=\"color:green\">Assign an empty list to variable `a`. Multiply this list by 1000 and find its length.</span>"
   ]
  },
  {
   "cell_type": "code",
   "execution_count": 35,
   "id": "da36e8d2",
   "metadata": {},
   "outputs": [
    {
     "data": {
      "text/plain": [
       "0"
      ]
     },
     "execution_count": 35,
     "metadata": {},
     "output_type": "execute_result"
    }
   ],
   "source": [
    "a = []\n",
    "len(a * 1000)"
   ]
  },
  {
   "cell_type": "markdown",
   "id": "925c4943",
   "metadata": {},
   "source": [
    "### Exercise 22\n",
    "\n",
    "<span style=\"color:green\">Use the character 'a' to separate and join the following list to reveal the magic word </span>"
   ]
  },
  {
   "cell_type": "code",
   "execution_count": 36,
   "id": "b8aa5c2f",
   "metadata": {},
   "outputs": [
    {
     "data": {
      "text/plain": [
       "'abaracadabara!'"
      ]
     },
     "execution_count": 36,
     "metadata": {},
     "output_type": "execute_result"
    }
   ],
   "source": [
    "magic_word = ['', 'b', 'r', 'c', 'd', 'b', 'r', '!']\n",
    "\"a\".join(magic_word)"
   ]
  },
  {
   "cell_type": "markdown",
   "id": "ea8b6ecf",
   "metadata": {},
   "source": [
    "### Exercise 23\n",
    "\n",
    "<span style=\"color:green\">Concatenate the following list into a single string. Use a separator that will make a valid English sentence.</span>"
   ]
  },
  {
   "cell_type": "code",
   "execution_count": 37,
   "id": "f864ad61",
   "metadata": {},
   "outputs": [
    {
     "data": {
      "text/plain": [
       "'He rode the bike twice .'"
      ]
     },
     "execution_count": 37,
     "metadata": {},
     "output_type": "execute_result"
    }
   ],
   "source": [
    "sentence = ['H', 'rod', 'th', 'bik', 'twic', '.']\n",
    "\"e \".join(sentence)"
   ]
  },
  {
   "cell_type": "markdown",
   "id": "53085b21",
   "metadata": {},
   "source": [
    "### Exercise 24\n",
    "\n",
    "<span style=\"color:green\">Create a new string that inserts the word `'is'` after the string `'python'` in the following string.</span>"
   ]
  },
  {
   "cell_type": "code",
   "execution_count": 39,
   "id": "991ecbc1",
   "metadata": {},
   "outputs": [],
   "source": [
    "s = 'The programming language python fantastic'"
   ]
  },
  {
   "cell_type": "code",
   "execution_count": 40,
   "id": "680956ed",
   "metadata": {},
   "outputs": [
    {
     "data": {
      "text/plain": [
       "'The programming language python is fantastic'"
      ]
     },
     "execution_count": 40,
     "metadata": {},
     "output_type": "execute_result"
    }
   ],
   "source": [
    "words = s.split()\n",
    "index = words.index('python') + 1\n",
    "words.insert(index, 'is')\n",
    "' '.join(words)"
   ]
  },
  {
   "cell_type": "markdown",
   "id": "38be9868",
   "metadata": {},
   "source": [
    "### Exercise 25\n",
    "\n",
    "<span style=\"color:green\">Replace all occurrences of the `'*'` with `'o'`.</span>"
   ]
  },
  {
   "cell_type": "code",
   "execution_count": 41,
   "id": "d9b4cfb8",
   "metadata": {},
   "outputs": [],
   "source": [
    "s = '*n July 20, 1969 astr*nauts landed *n the m**n'"
   ]
  },
  {
   "cell_type": "code",
   "execution_count": 42,
   "id": "c80d66e6",
   "metadata": {},
   "outputs": [
    {
     "data": {
      "text/plain": [
       "'on July 20, 1969 astronauts landed on the moon'"
      ]
     },
     "execution_count": 42,
     "metadata": {},
     "output_type": "execute_result"
    }
   ],
   "source": [
    "s.replace('*','o')"
   ]
  },
  {
   "cell_type": "code",
   "execution_count": null,
   "id": "d54acb15",
   "metadata": {},
   "outputs": [],
   "source": []
  }
 ],
 "metadata": {
  "kernelspec": {
   "display_name": "Python 3 (ipykernel)",
   "language": "python",
   "name": "python3"
  },
  "language_info": {
   "codemirror_mode": {
    "name": "ipython",
    "version": 3
   },
   "file_extension": ".py",
   "mimetype": "text/x-python",
   "name": "python",
   "nbconvert_exporter": "python",
   "pygments_lexer": "ipython3",
   "version": "3.10.8"
  }
 },
 "nbformat": 4,
 "nbformat_minor": 5
}
